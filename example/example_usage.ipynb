# Import necessary modules and classes
from surface_code_qubit import SurfaceCodeQubit
from error_correction_utils import apply_simple_correction, mwpm_correction

# Create a SurfaceCodeQubit instance
size = 3
surface_qubit = SurfaceCodeQubit(size)

# Apply X and Z gates to the qubits
surface_qubit.apply_gate('X', [(0, 0), (0, 1)])
surface_qubit.apply_gate('Z', [(1, 1), (2, 2)])

# Measure stabilizers to obtain syndromes
syndromes = surface_qubit.measure_stabilizers()

# Display the syndromes
print("Syndromes:")
print(syndromes)

# Perform error correction based on syndromes
surface_qubit._correct_error(syndromes)

# Display the corrected state vector
corrected_state_vector = surface_qubit.get_state_vector()
print("\nCorrected State Vector:")
print(corrected_state_vector)

# Measure the state of a specific qubit
measurement_result = surface_code_qubit.measure((0, 0))

# Display the measurement result
print("Measurement Result:", measurement_result)
